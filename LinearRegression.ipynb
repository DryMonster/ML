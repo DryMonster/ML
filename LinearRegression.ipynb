{
 "cells": [
  {
   "cell_type": "code",
   "execution_count": 1,
   "metadata": {},
   "outputs": [],
   "source": [
    "# Library imports\n",
    "import numpy as np\n",
    "import matplotlib.pyplot as plt\n",
    "import mglearn"
   ]
  },
  {
   "cell_type": "code",
   "execution_count": 40,
   "metadata": {},
   "outputs": [
    {
     "name": "stdout",
     "output_type": "stream",
     "text": [
      "Model coefficient [0.39001024]\n",
      "Model Intercept -0.10023808171438695\n"
     ]
    }
   ],
   "source": [
    "from sklearn.linear_model import LinearRegression\n",
    "from sklearn.model_selection import train_test_split\n",
    "\n",
    "# Dataset and splitting \n",
    "X, y = mglearn.datasets.make_wave(n_samples=60)\n",
    "X_train, X_test, y_train, y_test = train_test_split(X, y, random_state=4)\n",
    "\n",
    "# Training model\n",
    "lr = LinearRegression().fit(X_train, y_train)\n",
    "print(f\"Model coefficient {lr.coef_}\")\n",
    "print(f\"Model Intercept {lr.intercept_}\")"
   ]
  },
  {
   "cell_type": "code",
   "execution_count": 37,
   "metadata": {},
   "outputs": [
    {
     "name": "stdout",
     "output_type": "stream",
     "text": [
      "Test set predictions [-0.90517559  0.16150456 -1.0631909  -0.20303702  0.67769812  0.11601769\n",
      "  0.62143065 -1.11804407 -1.13434957  0.8575968   0.75663659  0.56709118\n",
      "  0.99937983 -0.8447872  -1.04171005]\n",
      "R^2 score : 0.8323312763209392\n"
     ]
    }
   ],
   "source": [
    "# Prediction and evaluation\n",
    "print(f\"Test set predictions {lr.predict(X_test)}\")\n",
    "print(f\"R^2 score : {lr.score(X_test, y_test)}\")"
   ]
  }
 ],
 "metadata": {
  "kernelspec": {
   "display_name": "Python 3",
   "language": "python",
   "name": "python3"
  },
  "language_info": {
   "codemirror_mode": {
    "name": "ipython",
    "version": 3
   },
   "file_extension": ".py",
   "mimetype": "text/x-python",
   "name": "python",
   "nbconvert_exporter": "python",
   "pygments_lexer": "ipython3",
   "version": "3.8.5"
  }
 },
 "nbformat": 4,
 "nbformat_minor": 4
}
